{
 "cells": [
  {
   "cell_type": "code",
   "execution_count": 3,
   "metadata": {},
   "outputs": [
    {
     "name": "stderr",
     "output_type": "stream",
     "text": [
      "[nltk_data] Downloading package vader_lexicon to\n",
      "[nltk_data]     C:\\Users\\cnbga\\AppData\\Roaming\\nltk_data...\n"
     ]
    },
    {
     "data": {
      "text/plain": [
       "True"
      ]
     },
     "execution_count": 3,
     "metadata": {},
     "output_type": "execute_result"
    }
   ],
   "source": [
    "import csv\n",
    "import datetime\n",
    "import json\n",
    "import os\n",
    "\n",
    "import geopandas as gpd\n",
    "import nltk\n",
    "from nltk.sentiment import SentimentIntensityAnalyzer\n",
    "import pandas as pd\n",
    "import requests\n",
    "from matplotlib.pyplot import connect\n",
    "\n",
    "nltk.download('vader_lexicon')"
   ]
  },
  {
   "cell_type": "code",
   "execution_count": 7,
   "metadata": {},
   "outputs": [
    {
     "name": "stdout",
     "output_type": "stream",
     "text": [
      "{'neg': 0.0, 'neu': 0.286, 'pos': 0.714, 'compound': 0.3612}\n",
      "{'neg': 0.778, 'neu': 0.222, 'pos': 0.0, 'compound': -0.5423}\n",
      "{'neg': 0.0, 'neu': 0.616, 'pos': 0.384, 'compound': 0.3597}\n"
     ]
    }
   ],
   "source": [
    "sen = SentimentIntensityAnalyzer()\n",
    "sen1 = sen.polarity_scores('Thank You')\n",
    "sen2 = sen.polarity_scores('Fuck you')\n",
    "sen3 = sen.polarity_scores('Shut up and fucking yeah')\n",
    "print(sen1)\n",
    "print(sen2)\n",
    "print(sen3)"
   ]
  },
  {
   "cell_type": "code",
   "execution_count": 75,
   "metadata": {},
   "outputs": [
    {
     "data": {
      "text/html": [
       "<div>\n",
       "<style scoped>\n",
       "    .dataframe tbody tr th:only-of-type {\n",
       "        vertical-align: middle;\n",
       "    }\n",
       "\n",
       "    .dataframe tbody tr th {\n",
       "        vertical-align: top;\n",
       "    }\n",
       "\n",
       "    .dataframe thead th {\n",
       "        text-align: right;\n",
       "    }\n",
       "</style>\n",
       "<table border=\"1\" class=\"dataframe\">\n",
       "  <thead>\n",
       "    <tr style=\"text-align: right;\">\n",
       "      <th></th>\n",
       "      <th>Date_reported</th>\n",
       "      <th>Country_code</th>\n",
       "      <th>Country</th>\n",
       "      <th>WHO_region</th>\n",
       "      <th>New_cases</th>\n",
       "      <th>Cumulative_cases</th>\n",
       "      <th>New_deaths</th>\n",
       "      <th>Cumulative_deaths</th>\n",
       "    </tr>\n",
       "  </thead>\n",
       "  <tbody>\n",
       "    <tr>\n",
       "      <th>0</th>\n",
       "      <td>2020-01-03</td>\n",
       "      <td>AF</td>\n",
       "      <td>Afghanistan</td>\n",
       "      <td>EMRO</td>\n",
       "      <td>0</td>\n",
       "      <td>0</td>\n",
       "      <td>0</td>\n",
       "      <td>0</td>\n",
       "    </tr>\n",
       "    <tr>\n",
       "      <th>1</th>\n",
       "      <td>2020-01-04</td>\n",
       "      <td>AF</td>\n",
       "      <td>Afghanistan</td>\n",
       "      <td>EMRO</td>\n",
       "      <td>0</td>\n",
       "      <td>0</td>\n",
       "      <td>0</td>\n",
       "      <td>0</td>\n",
       "    </tr>\n",
       "    <tr>\n",
       "      <th>2</th>\n",
       "      <td>2020-01-05</td>\n",
       "      <td>AF</td>\n",
       "      <td>Afghanistan</td>\n",
       "      <td>EMRO</td>\n",
       "      <td>0</td>\n",
       "      <td>0</td>\n",
       "      <td>0</td>\n",
       "      <td>0</td>\n",
       "    </tr>\n",
       "    <tr>\n",
       "      <th>3</th>\n",
       "      <td>2020-01-06</td>\n",
       "      <td>AF</td>\n",
       "      <td>Afghanistan</td>\n",
       "      <td>EMRO</td>\n",
       "      <td>0</td>\n",
       "      <td>0</td>\n",
       "      <td>0</td>\n",
       "      <td>0</td>\n",
       "    </tr>\n",
       "    <tr>\n",
       "      <th>4</th>\n",
       "      <td>2020-01-07</td>\n",
       "      <td>AF</td>\n",
       "      <td>Afghanistan</td>\n",
       "      <td>EMRO</td>\n",
       "      <td>0</td>\n",
       "      <td>0</td>\n",
       "      <td>0</td>\n",
       "      <td>0</td>\n",
       "    </tr>\n",
       "  </tbody>\n",
       "</table>\n",
       "</div>"
      ],
      "text/plain": [
       "  Date_reported Country_code      Country WHO_region  New_cases  \\\n",
       "0    2020-01-03           AF  Afghanistan       EMRO          0   \n",
       "1    2020-01-04           AF  Afghanistan       EMRO          0   \n",
       "2    2020-01-05           AF  Afghanistan       EMRO          0   \n",
       "3    2020-01-06           AF  Afghanistan       EMRO          0   \n",
       "4    2020-01-07           AF  Afghanistan       EMRO          0   \n",
       "\n",
       "   Cumulative_cases  New_deaths  Cumulative_deaths  \n",
       "0                 0           0                  0  \n",
       "1                 0           0                  0  \n",
       "2                 0           0                  0  \n",
       "3                 0           0                  0  \n",
       "4                 0           0                  0  "
      ]
     },
     "execution_count": 75,
     "metadata": {},
     "output_type": "execute_result"
    }
   ],
   "source": []
  },
  {
   "cell_type": "code",
   "execution_count": 188,
   "metadata": {},
   "outputs": [
    {
     "name": "stdout",
     "output_type": "stream",
     "text": [
      "\n"
     ]
    },
    {
     "ename": "KeyError",
     "evalue": "\"None of ['Date_reported'] are in the columns\"",
     "output_type": "error",
     "traceback": [
      "\u001b[1;31m---------------------------------------------------------------------------\u001b[0m",
      "\u001b[1;31mKeyError\u001b[0m                                  Traceback (most recent call last)",
      "\u001b[1;32mc:\\Users\\cnbga\\Documents\\uw\\uwcse\\CSE163-22wi\\Project\\try.ipynb Cell 4'\u001b[0m in \u001b[0;36m<cell line: 28>\u001b[1;34m()\u001b[0m\n\u001b[0;32m     <a href='vscode-notebook-cell:/c%3A/Users/cnbga/Documents/uw/uwcse/CSE163-22wi/Project/try.ipynb#ch0000004?line=25'>26</a>\u001b[0m lsi \u001b[39m=\u001b[39m \u001b[39mlist\u001b[39m(res_dict\u001b[39m.\u001b[39mitems())\n\u001b[0;32m     <a href='vscode-notebook-cell:/c%3A/Users/cnbga/Documents/uw/uwcse/CSE163-22wi/Project/try.ipynb#ch0000004?line=26'>27</a>\u001b[0m df_attitude \u001b[39m=\u001b[39m pd\u001b[39m.\u001b[39mDataFrame(lsi)\n\u001b[1;32m---> <a href='vscode-notebook-cell:/c%3A/Users/cnbga/Documents/uw/uwcse/CSE163-22wi/Project/try.ipynb#ch0000004?line=27'>28</a>\u001b[0m df_attitude\u001b[39m.\u001b[39;49mset_index(\u001b[39m'\u001b[39;49m\u001b[39mDate_reported\u001b[39;49m\u001b[39m'\u001b[39;49m, inplace\u001b[39m=\u001b[39;49m\u001b[39mTrue\u001b[39;49;00m)\n\u001b[0;32m     <a href='vscode-notebook-cell:/c%3A/Users/cnbga/Documents/uw/uwcse/CSE163-22wi/Project/try.ipynb#ch0000004?line=29'>30</a>\u001b[0m df_cases \u001b[39m=\u001b[39m df_cases[[\u001b[39m'\u001b[39m\u001b[39mDate_reported\u001b[39m\u001b[39m'\u001b[39m, \u001b[39m'\u001b[39m\u001b[39mNew_cases\u001b[39m\u001b[39m'\u001b[39m]]\n\u001b[0;32m     <a href='vscode-notebook-cell:/c%3A/Users/cnbga/Documents/uw/uwcse/CSE163-22wi/Project/try.ipynb#ch0000004?line=30'>31</a>\u001b[0m df_cases \u001b[39m=\u001b[39m df_cases\u001b[39m.\u001b[39mgroupby(by\u001b[39m=\u001b[39m[\u001b[39m'\u001b[39m\u001b[39mDate_reported\u001b[39m\u001b[39m'\u001b[39m])\u001b[39m.\u001b[39msum()\n",
      "File \u001b[1;32m~\\Anaconda3\\envs\\base1\\lib\\site-packages\\pandas\\util\\_decorators.py:311\u001b[0m, in \u001b[0;36mdeprecate_nonkeyword_arguments.<locals>.decorate.<locals>.wrapper\u001b[1;34m(*args, **kwargs)\u001b[0m\n\u001b[0;32m    <a href='file:///c%3A/Users/cnbga/Anaconda3/envs/base1/lib/site-packages/pandas/util/_decorators.py?line=304'>305</a>\u001b[0m \u001b[39mif\u001b[39;00m \u001b[39mlen\u001b[39m(args) \u001b[39m>\u001b[39m num_allow_args:\n\u001b[0;32m    <a href='file:///c%3A/Users/cnbga/Anaconda3/envs/base1/lib/site-packages/pandas/util/_decorators.py?line=305'>306</a>\u001b[0m     warnings\u001b[39m.\u001b[39mwarn(\n\u001b[0;32m    <a href='file:///c%3A/Users/cnbga/Anaconda3/envs/base1/lib/site-packages/pandas/util/_decorators.py?line=306'>307</a>\u001b[0m         msg\u001b[39m.\u001b[39mformat(arguments\u001b[39m=\u001b[39marguments),\n\u001b[0;32m    <a href='file:///c%3A/Users/cnbga/Anaconda3/envs/base1/lib/site-packages/pandas/util/_decorators.py?line=307'>308</a>\u001b[0m         \u001b[39mFutureWarning\u001b[39;00m,\n\u001b[0;32m    <a href='file:///c%3A/Users/cnbga/Anaconda3/envs/base1/lib/site-packages/pandas/util/_decorators.py?line=308'>309</a>\u001b[0m         stacklevel\u001b[39m=\u001b[39mstacklevel,\n\u001b[0;32m    <a href='file:///c%3A/Users/cnbga/Anaconda3/envs/base1/lib/site-packages/pandas/util/_decorators.py?line=309'>310</a>\u001b[0m     )\n\u001b[1;32m--> <a href='file:///c%3A/Users/cnbga/Anaconda3/envs/base1/lib/site-packages/pandas/util/_decorators.py?line=310'>311</a>\u001b[0m \u001b[39mreturn\u001b[39;00m func(\u001b[39m*\u001b[39;49margs, \u001b[39m*\u001b[39;49m\u001b[39m*\u001b[39;49mkwargs)\n",
      "File \u001b[1;32m~\\Anaconda3\\envs\\base1\\lib\\site-packages\\pandas\\core\\frame.py:5488\u001b[0m, in \u001b[0;36mDataFrame.set_index\u001b[1;34m(self, keys, drop, append, inplace, verify_integrity)\u001b[0m\n\u001b[0;32m   <a href='file:///c%3A/Users/cnbga/Anaconda3/envs/base1/lib/site-packages/pandas/core/frame.py?line=5484'>5485</a>\u001b[0m                 missing\u001b[39m.\u001b[39mappend(col)\n\u001b[0;32m   <a href='file:///c%3A/Users/cnbga/Anaconda3/envs/base1/lib/site-packages/pandas/core/frame.py?line=5486'>5487</a>\u001b[0m \u001b[39mif\u001b[39;00m missing:\n\u001b[1;32m-> <a href='file:///c%3A/Users/cnbga/Anaconda3/envs/base1/lib/site-packages/pandas/core/frame.py?line=5487'>5488</a>\u001b[0m     \u001b[39mraise\u001b[39;00m \u001b[39mKeyError\u001b[39;00m(\u001b[39mf\u001b[39m\u001b[39m\"\u001b[39m\u001b[39mNone of \u001b[39m\u001b[39m{\u001b[39;00mmissing\u001b[39m}\u001b[39;00m\u001b[39m are in the columns\u001b[39m\u001b[39m\"\u001b[39m)\n\u001b[0;32m   <a href='file:///c%3A/Users/cnbga/Anaconda3/envs/base1/lib/site-packages/pandas/core/frame.py?line=5489'>5490</a>\u001b[0m \u001b[39mif\u001b[39;00m inplace:\n\u001b[0;32m   <a href='file:///c%3A/Users/cnbga/Anaconda3/envs/base1/lib/site-packages/pandas/core/frame.py?line=5490'>5491</a>\u001b[0m     frame \u001b[39m=\u001b[39m \u001b[39mself\u001b[39m\n",
      "\u001b[1;31mKeyError\u001b[0m: \"None of ['Date_reported'] are in the columns\""
     ]
    }
   ],
   "source": [
    "df_cases = pd.read_csv('global-data-bycount.csv')\n",
    "df_tweet = pd.read_csv('data.csv')\n",
    "df_tweet.set_index('created_at', inplace=True)\n",
    "\n",
    "print()\n",
    "tweet_inds = df_tweet.index.tolist()\n",
    "res_dict = {}\n",
    "for index in tweet_inds: \n",
    "    if index not in res_dict.keys():\n",
    "        res_dict[index] = []\n",
    "        alts_for_ind_aday = df_tweet.loc[index, 'attitude']\n",
    "        for alt in alts_for_ind_aday:\n",
    "            res_dict[index].append(alt)\n",
    "\n",
    "for day in res_dict.keys():\n",
    "    single = res_dict[day]\n",
    "    neg = 0\n",
    "    tot = 0\n",
    "    for sing_at in single:\n",
    "        if sing_at == 'NON_negative':\n",
    "            neg += 1\n",
    "        tot += 1\n",
    "    perc_neg = neg / tot\n",
    "    res_dict[day] = perc_neg\n",
    "\n",
    "lsi = list(res_dict.items())\n",
    "df_attitude = pd.DataFrame(lsi)\n",
    "df_attitude.set_index('Date_reported', inplace=True)\n",
    "\n",
    "df_cases = df_cases[['Date_reported', 'New_cases']]\n",
    "df_cases = df_cases.groupby(by=['Date_reported']).sum()\n",
    "df_cases = df_cases.loc['2022-03-03':'2022-03-06']\n",
    "\n",
    "print(df_cases)\n",
    "merged = df_cases.join(df_attitude, how='inner')\n",
    "merged.index.name = 'date'\n",
    "merged = merged.rename(columns={1:'Non-negative-PERCENT'})\n",
    "print(merged)\n",
    "\n"
   ]
  }
 ],
 "metadata": {
  "interpreter": {
   "hash": "e5640c1fa903f8c2bc35c007373e8c5a51bd9af0c7e5e728d5e4ce38629fd6d1"
  },
  "kernelspec": {
   "display_name": "Python 3.8.12 ('base1')",
   "language": "python",
   "name": "python3"
  },
  "language_info": {
   "codemirror_mode": {
    "name": "ipython",
    "version": 3
   },
   "file_extension": ".py",
   "mimetype": "text/x-python",
   "name": "python",
   "nbconvert_exporter": "python",
   "pygments_lexer": "ipython3",
   "version": "3.8.12"
  },
  "orig_nbformat": 4
 },
 "nbformat": 4,
 "nbformat_minor": 2
}
